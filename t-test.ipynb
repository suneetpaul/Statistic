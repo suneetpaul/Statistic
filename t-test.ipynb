{
 "cells": [
  {
   "cell_type": "code",
   "execution_count": 1,
   "metadata": {},
   "outputs": [],
   "source": [
    "import numpy as np\n",
    "from numpy import random"
   ]
  },
  {
   "cell_type": "markdown",
   "metadata": {},
   "source": [
    "smple \n",
    "asumne \n",
    "\n",
    "\n",
    "data 2 -- ind \n",
    "\n",
    "\n",
    "data 2 -- rel \n",
    "\n"
   ]
  },
  {
   "cell_type": "code",
   "execution_count": 2,
   "metadata": {},
   "outputs": [],
   "source": [
    "lis = random.randint(20 , size= 20)"
   ]
  },
  {
   "cell_type": "code",
   "execution_count": 3,
   "metadata": {},
   "outputs": [
    {
     "data": {
      "text/plain": [
       "array([16,  9,  0, 18, 17, 16, 10,  3, 13,  5, 16, 19,  8, 17,  6, 10,  2,\n",
       "        2, 17, 12])"
      ]
     },
     "execution_count": 3,
     "metadata": {},
     "output_type": "execute_result"
    }
   ],
   "source": [
    "lis"
   ]
  },
  {
   "cell_type": "code",
   "execution_count": 4,
   "metadata": {},
   "outputs": [],
   "source": [
    "asumed_mean = 16"
   ]
  },
  {
   "cell_type": "code",
   "execution_count": 5,
   "metadata": {},
   "outputs": [],
   "source": [
    "from scipy.stats import ttest_1samp"
   ]
  },
  {
   "cell_type": "code",
   "execution_count": 6,
   "metadata": {},
   "outputs": [],
   "source": [
    "stats , pvalue = ttest_1samp(lis , asumed_mean)"
   ]
  },
  {
   "cell_type": "code",
   "execution_count": 7,
   "metadata": {},
   "outputs": [
    {
     "name": "stdout",
     "output_type": "stream",
     "text": [
      "stats -3.769345381066838\n",
      "pvalue 0.001297433863051762\n"
     ]
    }
   ],
   "source": [
    "print(\"stats\" , stats)\n",
    "print(\"pvalue\" , pvalue)"
   ]
  },
  {
   "cell_type": "code",
   "execution_count": 8,
   "metadata": {},
   "outputs": [
    {
     "name": "stdout",
     "output_type": "stream",
     "text": [
      "the mean of the sample is different from assumed mean (accept ha) \n"
     ]
    }
   ],
   "source": [
    "if pvalue > 0.05:\n",
    "    print(\"the mean of the sample same as the asumed mean (accept h0)\")\n",
    "else:\n",
    "    print(\"the mean of the sample is different from assumed mean (accept ha) \")"
   ]
  },
  {
   "cell_type": "code",
   "execution_count": 9,
   "metadata": {},
   "outputs": [
    {
     "data": {
      "text/plain": [
       "[15, 14, 13, 18, 36, 17, 39, 38, 19, 23, 36, 18, 21, 5, 32, 14, 2, 8, 3, 22]"
      ]
     },
     "execution_count": 9,
     "metadata": {},
     "output_type": "execute_result"
    }
   ],
   "source": [
    "lis2 = random.randint(40 , size= 20).tolist()\n",
    "lis2"
   ]
  },
  {
   "cell_type": "code",
   "execution_count": 14,
   "metadata": {},
   "outputs": [
    {
     "data": {
      "text/plain": [
       "19.65"
      ]
     },
     "execution_count": 14,
     "metadata": {},
     "output_type": "execute_result"
    }
   ],
   "source": [
    "lm = np.mean(lis2)\n",
    "lm"
   ]
  },
  {
   "cell_type": "code",
   "execution_count": 10,
   "metadata": {},
   "outputs": [],
   "source": [
    "from scipy.stats import ttest_ind"
   ]
  },
  {
   "cell_type": "code",
   "execution_count": 11,
   "metadata": {},
   "outputs": [],
   "source": [
    "stast2 ,pvalue2 = ttest_ind(lis , lis2)"
   ]
  },
  {
   "cell_type": "code",
   "execution_count": 16,
   "metadata": {},
   "outputs": [
    {
     "name": "stdout",
     "output_type": "stream",
     "text": [
      "stats -3.039409036995912\n",
      "pvalue 0.004274957486855019\n"
     ]
    }
   ],
   "source": [
    "print(\"stats\" , stast2)\n",
    "print(\"pvalue\" , pvalue2)"
   ]
  },
  {
   "cell_type": "code",
   "execution_count": 84,
   "metadata": {},
   "outputs": [
    {
     "name": "stdout",
     "output_type": "stream",
     "text": [
      "the mean of the both sample are same  \n"
     ]
    }
   ],
   "source": [
    "if pvalue2 > 0.05:\n",
    "    print(\"the mean of the both sample are different \") # h0\n",
    "else:\n",
    "    print(\"the mean of the both sample are same  \") # ha"
   ]
  },
  {
   "cell_type": "code",
   "execution_count": null,
   "metadata": {},
   "outputs": [],
   "source": []
  },
  {
   "cell_type": "code",
   "execution_count": 92,
   "metadata": {},
   "outputs": [],
   "source": [
    "from  scipy.stats import ttest_rel"
   ]
  },
  {
   "cell_type": "code",
   "execution_count": 93,
   "metadata": {},
   "outputs": [
    {
     "name": "stdout",
     "output_type": "stream",
     "text": [
      "TtestResult(statistic=-3.892106875634106, pvalue=0.00098032419537627, df=19)\n"
     ]
    }
   ],
   "source": [
    "stats3 , pvaleu3 = ttest_rel(lis,lis2)\n",
    "print(pvaleu3)"
   ]
  },
  {
   "cell_type": "code",
   "execution_count": 94,
   "metadata": {},
   "outputs": [
    {
     "name": "stdout",
     "output_type": "stream",
     "text": [
      "the mean of the both sample are same  \n"
     ]
    }
   ],
   "source": [
    "if pvaleu3[1] > 0.05:\n",
    "    print(\"the mean of the both sample are different \") # h0\n",
    "else:\n",
    "    print(\"the mean of the both sample are same  \") # ha"
   ]
  },
  {
   "cell_type": "code",
   "execution_count": null,
   "metadata": {},
   "outputs": [],
   "source": []
  }
 ],
 "metadata": {
  "kernelspec": {
   "display_name": "Python 3",
   "language": "python",
   "name": "python3"
  },
  "language_info": {
   "codemirror_mode": {
    "name": "ipython",
    "version": 3
   },
   "file_extension": ".py",
   "mimetype": "text/x-python",
   "name": "python",
   "nbconvert_exporter": "python",
   "pygments_lexer": "ipython3",
   "version": "3.12.4"
  }
 },
 "nbformat": 4,
 "nbformat_minor": 2
}
