{
 "cells": [
  {
   "cell_type": "code",
   "execution_count": 1,
   "metadata": {},
   "outputs": [],
   "source": [
    "import pandas as pd\n",
    "import numpy as np\n"
   ]
  },
  {
   "cell_type": "code",
   "execution_count": 2,
   "metadata": {},
   "outputs": [
    {
     "name": "stderr",
     "output_type": "stream",
     "text": [
      "<>:1: SyntaxWarning: invalid escape sequence '\\p'\n",
      "<>:1: SyntaxWarning: invalid escape sequence '\\p'\n",
      "C:\\Users\\Tinku\\AppData\\Local\\Temp\\ipykernel_3668\\2639018197.py:1: SyntaxWarning: invalid escape sequence '\\p'\n",
      "  data = pd.read_csv('E:\\paul\\AAFT\\stct\\Salary_Data.csv')\n"
     ]
    }
   ],
   "source": [
    "data = pd.read_csv('E:\\paul\\AAFT\\stct\\Salary_Data.csv')\n"
   ]
  },
  {
   "cell_type": "code",
   "execution_count": 3,
   "metadata": {},
   "outputs": [
    {
     "data": {
      "text/html": [
       "<div>\n",
       "<style scoped>\n",
       "    .dataframe tbody tr th:only-of-type {\n",
       "        vertical-align: middle;\n",
       "    }\n",
       "\n",
       "    .dataframe tbody tr th {\n",
       "        vertical-align: top;\n",
       "    }\n",
       "\n",
       "    .dataframe thead th {\n",
       "        text-align: right;\n",
       "    }\n",
       "</style>\n",
       "<table border=\"1\" class=\"dataframe\">\n",
       "  <thead>\n",
       "    <tr style=\"text-align: right;\">\n",
       "      <th></th>\n",
       "      <th>YearsExperience</th>\n",
       "      <th>Salary</th>\n",
       "    </tr>\n",
       "  </thead>\n",
       "  <tbody>\n",
       "    <tr>\n",
       "      <th>0</th>\n",
       "      <td>1.1</td>\n",
       "      <td>39343.0</td>\n",
       "    </tr>\n",
       "    <tr>\n",
       "      <th>1</th>\n",
       "      <td>1.3</td>\n",
       "      <td>46205.0</td>\n",
       "    </tr>\n",
       "    <tr>\n",
       "      <th>2</th>\n",
       "      <td>1.5</td>\n",
       "      <td>37731.0</td>\n",
       "    </tr>\n",
       "    <tr>\n",
       "      <th>3</th>\n",
       "      <td>2.0</td>\n",
       "      <td>43525.0</td>\n",
       "    </tr>\n",
       "    <tr>\n",
       "      <th>4</th>\n",
       "      <td>2.2</td>\n",
       "      <td>39891.0</td>\n",
       "    </tr>\n",
       "  </tbody>\n",
       "</table>\n",
       "</div>"
      ],
      "text/plain": [
       "   YearsExperience   Salary\n",
       "0              1.1  39343.0\n",
       "1              1.3  46205.0\n",
       "2              1.5  37731.0\n",
       "3              2.0  43525.0\n",
       "4              2.2  39891.0"
      ]
     },
     "execution_count": 3,
     "metadata": {},
     "output_type": "execute_result"
    }
   ],
   "source": [
    "data.head()"
   ]
  },
  {
   "cell_type": "code",
   "execution_count": 4,
   "metadata": {},
   "outputs": [],
   "source": [
    "from scipy.stats import shapiro as sp\n",
    "from scipy.stats import pearsonr"
   ]
  },
  {
   "cell_type": "code",
   "execution_count": 5,
   "metadata": {},
   "outputs": [
    {
     "name": "stdout",
     "output_type": "stream",
     "text": [
      "p-value =  0.015155591078390984\n",
      "The data is not normally distributed\n"
     ]
    }
   ],
   "source": [
    "nor = sp(data['Salary'])\n",
    "\n",
    "print(\"p-value = \" , nor[1])\n",
    "\n",
    "\n",
    "if nor[1] > 0.05 :\n",
    "    print(\"The data is normally distributed\")\n",
    "else:\n",
    "    print(\"The data is not normally distributed\")"
   ]
  },
  {
   "cell_type": "code",
   "execution_count": 6,
   "metadata": {},
   "outputs": [
    {
     "name": "stdout",
     "output_type": "stream",
     "text": [
      "p-value =  0.10337645734315726\n",
      "The data is normally distributed\n"
     ]
    }
   ],
   "source": [
    "nor1 = sp(data['YearsExperience'])\n",
    "\n",
    "print(\"p-value = \" , nor1[1])\n",
    "\n",
    "\n",
    "if nor1[1] > 0.05 :\n",
    "    print(\"The data is normally distributed\")\n",
    "else:\n",
    "    print(\"The data is not normally distributed\")"
   ]
  },
  {
   "cell_type": "code",
   "execution_count": 8,
   "metadata": {},
   "outputs": [
    {
     "name": "stdout",
     "output_type": "stream",
     "text": [
      "p-value =  1.1430681092271567e-20\n",
      "\n",
      " the data is corelated \n",
      " reject Ho\n"
     ]
    }
   ],
   "source": [
    "nor2 = pearsonr(data[\"YearsExperience\"] ,data[\"Salary\"])\n",
    "\n",
    "print(\"p-value = \" , nor2[1])\n",
    "\n",
    "\n",
    "if nor2[1] > 0.05 :\n",
    "    print(\"the data is not likely corelated \\n  accept Ho\")\n",
    "else:\n",
    "\n",
    "    print(\"\\n the data is corelated \\n reject Ho\" )"
   ]
  },
  {
   "cell_type": "code",
   "execution_count": 9,
   "metadata": {},
   "outputs": [],
   "source": [
    "from scipy.stats import spearmanr"
   ]
  },
  {
   "cell_type": "code",
   "execution_count": 10,
   "metadata": {},
   "outputs": [
    {
     "name": "stdout",
     "output_type": "stream",
     "text": [
      "p-value =  1.466992893885873e-16\n",
      "\n",
      " the data is corelated \n",
      " reject Ho\n"
     ]
    }
   ],
   "source": [
    "nor3 = spearmanr(data[\"YearsExperience\"] ,data[\"Salary\"])\n",
    "\n",
    "print(\"p-value = \" , nor3[1])\n",
    "\n",
    "\n",
    "if nor3[1] > 0.05 :\n",
    "    print(\"the data is not likely corelated \\n  accept Ho\")\n",
    "else:\n",
    "\n",
    "    print(\"\\n the data is corelated \\n reject Ho\" )\n"
   ]
  },
  {
   "cell_type": "code",
   "execution_count": null,
   "metadata": {},
   "outputs": [],
   "source": []
  },
  {
   "cell_type": "code",
   "execution_count": null,
   "metadata": {},
   "outputs": [],
   "source": []
  }
 ],
 "metadata": {
  "kernelspec": {
   "display_name": "Python 3",
   "language": "python",
   "name": "python3"
  },
  "language_info": {
   "codemirror_mode": {
    "name": "ipython",
    "version": 3
   },
   "file_extension": ".py",
   "mimetype": "text/x-python",
   "name": "python",
   "nbconvert_exporter": "python",
   "pygments_lexer": "ipython3",
   "version": "3.12.4"
  }
 },
 "nbformat": 4,
 "nbformat_minor": 2
}
