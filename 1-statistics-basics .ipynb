{
 "cells": [
  {
   "cell_type": "code",
   "execution_count": 1,
   "metadata": {
    "executionInfo": {
     "elapsed": 1767,
     "status": "ok",
     "timestamp": 1729184755298,
     "user": {
      "displayName": "Suneet Paul",
      "userId": "13208453500650063933"
     },
     "user_tz": -330
    },
    "id": "iQDYHIjORL_-"
   },
   "outputs": [],
   "source": [
    "import pandas as pd\n",
    "import numpy as np"
   ]
  },
  {
   "cell_type": "code",
   "execution_count": 2,
   "metadata": {
    "executionInfo": {
     "elapsed": 447,
     "status": "ok",
     "timestamp": 1729184905844,
     "user": {
      "displayName": "Suneet Paul",
      "userId": "13208453500650063933"
     },
     "user_tz": -330
    },
    "id": "49uoq-WMcRFG"
   },
   "outputs": [
    {
     "name": "stderr",
     "output_type": "stream",
     "text": [
      "<>:2: SyntaxWarning: invalid escape sequence '\\p'\n",
      "<>:2: SyntaxWarning: invalid escape sequence '\\p'\n",
      "C:\\Users\\Tinku\\AppData\\Local\\Temp\\ipykernel_1740\\591216933.py:2: SyntaxWarning: invalid escape sequence '\\p'\n",
      "  df = pd.read_csv('E:\\paul\\AAFT\\stct\\Fortune500.csv')\n"
     ]
    }
   ],
   "source": [
    "# vs code to run this commond \n",
    "df = pd.read_csv('E:\\paul\\AAFT\\stct\\Fortune500.csv')\n",
    "\n",
    "# jupyter notebook / google colab to run this command\n",
    "\n",
    "#df = pd.read_csv('Fortune500.csv')"
   ]
  },
  {
   "cell_type": "code",
   "execution_count": null,
   "metadata": {
    "colab": {
     "base_uri": "https://localhost:8080/",
     "height": 518
    },
    "executionInfo": {
     "elapsed": 461,
     "status": "ok",
     "timestamp": 1729184916359,
     "user": {
      "displayName": "Suneet Paul",
      "userId": "13208453500650063933"
     },
     "user_tz": -330
    },
    "id": "vLn2iUuNcTsR",
    "outputId": "141b2139-179c-4f2d-f606-94763bf3c6df"
   },
   "outputs": [
    {
     "data": {
      "text/html": [
       "<div>\n",
       "<style scoped>\n",
       "    .dataframe tbody tr th:only-of-type {\n",
       "        vertical-align: middle;\n",
       "    }\n",
       "\n",
       "    .dataframe tbody tr th {\n",
       "        vertical-align: top;\n",
       "    }\n",
       "\n",
       "    .dataframe thead th {\n",
       "        text-align: right;\n",
       "    }\n",
       "</style>\n",
       "<table border=\"1\" class=\"dataframe\">\n",
       "  <thead>\n",
       "    <tr style=\"text-align: right;\">\n",
       "      <th></th>\n",
       "      <th>Rank</th>\n",
       "      <th>Title</th>\n",
       "      <th>Employees</th>\n",
       "      <th>Sector</th>\n",
       "      <th>Industry</th>\n",
       "      <th>Hqcity</th>\n",
       "      <th>Ceo</th>\n",
       "      <th>Ceo-title</th>\n",
       "      <th>Revenues</th>\n",
       "      <th>Revchange</th>\n",
       "      <th>Profits</th>\n",
       "      <th>Prftchange</th>\n",
       "      <th>Assets</th>\n",
       "    </tr>\n",
       "  </thead>\n",
       "  <tbody>\n",
       "    <tr>\n",
       "      <th>0</th>\n",
       "      <td>1</td>\n",
       "      <td>Walmart</td>\n",
       "      <td>2300000</td>\n",
       "      <td>Retailing</td>\n",
       "      <td>General Merchandisers</td>\n",
       "      <td>Bentonville</td>\n",
       "      <td>C. Douglas McMillon</td>\n",
       "      <td>President, Chief Executive Officer &amp; Director</td>\n",
       "      <td>485873</td>\n",
       "      <td>0.8</td>\n",
       "      <td>13643.0</td>\n",
       "      <td>-7.2</td>\n",
       "      <td>198825</td>\n",
       "    </tr>\n",
       "    <tr>\n",
       "      <th>1</th>\n",
       "      <td>2</td>\n",
       "      <td>Berkshire Hathaway</td>\n",
       "      <td>367700</td>\n",
       "      <td>Financials</td>\n",
       "      <td>Insurance: Property and Casualty (Stock)</td>\n",
       "      <td>Omaha</td>\n",
       "      <td>Warren E. Buffett</td>\n",
       "      <td>Chairman &amp; Chief Executive Officer</td>\n",
       "      <td>223604</td>\n",
       "      <td>6.1</td>\n",
       "      <td>24074.0</td>\n",
       "      <td>0</td>\n",
       "      <td>620854</td>\n",
       "    </tr>\n",
       "    <tr>\n",
       "      <th>2</th>\n",
       "      <td>3</td>\n",
       "      <td>Apple</td>\n",
       "      <td>116000</td>\n",
       "      <td>Technology</td>\n",
       "      <td>Computers, Office Equipment</td>\n",
       "      <td>Cupertino</td>\n",
       "      <td>Timothy D. Cook</td>\n",
       "      <td>Chief Executive Officer &amp; Director</td>\n",
       "      <td>215639</td>\n",
       "      <td>-7.7</td>\n",
       "      <td>45687.0</td>\n",
       "      <td>-14.4</td>\n",
       "      <td>321686</td>\n",
       "    </tr>\n",
       "    <tr>\n",
       "      <th>3</th>\n",
       "      <td>4</td>\n",
       "      <td>Exxon Mobil</td>\n",
       "      <td>72700</td>\n",
       "      <td>Energy</td>\n",
       "      <td>Petroleum Refining</td>\n",
       "      <td>Irving</td>\n",
       "      <td>Darren W. Woods</td>\n",
       "      <td>Chairman &amp; Chief Executive Officer</td>\n",
       "      <td>205004</td>\n",
       "      <td>-16.7</td>\n",
       "      <td>7840.0</td>\n",
       "      <td>-51.5</td>\n",
       "      <td>330314</td>\n",
       "    </tr>\n",
       "    <tr>\n",
       "      <th>4</th>\n",
       "      <td>5</td>\n",
       "      <td>McKesson</td>\n",
       "      <td>68000</td>\n",
       "      <td>Wholesalers</td>\n",
       "      <td>Wholesalers: Health Care</td>\n",
       "      <td>San Francisco</td>\n",
       "      <td>John H. Hammergren</td>\n",
       "      <td>Chairman, President &amp; Chief Executive Officer</td>\n",
       "      <td>192487</td>\n",
       "      <td>6.2</td>\n",
       "      <td>2258.0</td>\n",
       "      <td>53</td>\n",
       "      <td>56563</td>\n",
       "    </tr>\n",
       "  </tbody>\n",
       "</table>\n",
       "</div>"
      ],
      "text/plain": [
       "   Rank               Title  Employees       Sector  \\\n",
       "0     1             Walmart    2300000    Retailing   \n",
       "1     2  Berkshire Hathaway     367700   Financials   \n",
       "2     3               Apple     116000   Technology   \n",
       "3     4         Exxon Mobil      72700       Energy   \n",
       "4     5            McKesson      68000  Wholesalers   \n",
       "\n",
       "                                   Industry         Hqcity  \\\n",
       "0                     General Merchandisers    Bentonville   \n",
       "1  Insurance: Property and Casualty (Stock)          Omaha   \n",
       "2               Computers, Office Equipment      Cupertino   \n",
       "3                        Petroleum Refining         Irving   \n",
       "4                  Wholesalers: Health Care  San Francisco   \n",
       "\n",
       "                   Ceo                                      Ceo-title  \\\n",
       "0  C. Douglas McMillon  President, Chief Executive Officer & Director   \n",
       "1    Warren E. Buffett             Chairman & Chief Executive Officer   \n",
       "2      Timothy D. Cook             Chief Executive Officer & Director   \n",
       "3      Darren W. Woods             Chairman & Chief Executive Officer   \n",
       "4   John H. Hammergren  Chairman, President & Chief Executive Officer   \n",
       "\n",
       "   Revenues  Revchange  Profits Prftchange  Assets  \n",
       "0    485873        0.8  13643.0       -7.2  198825  \n",
       "1    223604        6.1  24074.0          0  620854  \n",
       "2    215639       -7.7  45687.0      -14.4  321686  \n",
       "3    205004      -16.7   7840.0      -51.5  330314  \n",
       "4    192487        6.2   2258.0         53   56563  "
      ]
     },
     "execution_count": 3,
     "metadata": {},
     "output_type": "execute_result"
    }
   ],
   "source": [
    "#first five  rows\n",
    "\n",
    "\n",
    "df.head()"
   ]
  },
  {
   "cell_type": "code",
   "execution_count": null,
   "metadata": {
    "colab": {
     "base_uri": "https://localhost:8080/",
     "height": 518
    },
    "executionInfo": {
     "elapsed": 481,
     "status": "ok",
     "timestamp": 1729184918736,
     "user": {
      "displayName": "Suneet Paul",
      "userId": "13208453500650063933"
     },
     "user_tz": -330
    },
    "id": "hYdfyrtmcYDK",
    "outputId": "c4893006-9f3b-442d-ec50-4860de5f4a8a"
   },
   "outputs": [
    {
     "data": {
      "text/html": [
       "<div>\n",
       "<style scoped>\n",
       "    .dataframe tbody tr th:only-of-type {\n",
       "        vertical-align: middle;\n",
       "    }\n",
       "\n",
       "    .dataframe tbody tr th {\n",
       "        vertical-align: top;\n",
       "    }\n",
       "\n",
       "    .dataframe thead th {\n",
       "        text-align: right;\n",
       "    }\n",
       "</style>\n",
       "<table border=\"1\" class=\"dataframe\">\n",
       "  <thead>\n",
       "    <tr style=\"text-align: right;\">\n",
       "      <th></th>\n",
       "      <th>Rank</th>\n",
       "      <th>Title</th>\n",
       "      <th>Employees</th>\n",
       "      <th>Sector</th>\n",
       "      <th>Industry</th>\n",
       "      <th>Hqcity</th>\n",
       "      <th>Ceo</th>\n",
       "      <th>Ceo-title</th>\n",
       "      <th>Revenues</th>\n",
       "      <th>Revchange</th>\n",
       "      <th>Profits</th>\n",
       "      <th>Prftchange</th>\n",
       "      <th>Assets</th>\n",
       "    </tr>\n",
       "  </thead>\n",
       "  <tbody>\n",
       "    <tr>\n",
       "      <th>495</th>\n",
       "      <td>496</td>\n",
       "      <td>Michaels Cos.</td>\n",
       "      <td>31000</td>\n",
       "      <td>Retailing</td>\n",
       "      <td>Specialty Retailers: Other</td>\n",
       "      <td>Irving</td>\n",
       "      <td>Carl S. Rubin</td>\n",
       "      <td>Chairman &amp; Chief Executive Officer</td>\n",
       "      <td>5197</td>\n",
       "      <td>5.8</td>\n",
       "      <td>378.2</td>\n",
       "      <td>4.2</td>\n",
       "      <td>2148</td>\n",
       "    </tr>\n",
       "    <tr>\n",
       "      <th>496</th>\n",
       "      <td>497</td>\n",
       "      <td>Toll Brothers</td>\n",
       "      <td>4200</td>\n",
       "      <td>Engineering &amp; Construction</td>\n",
       "      <td>Homebuilders</td>\n",
       "      <td>Horsham</td>\n",
       "      <td>Douglas C. Yearley Jr.</td>\n",
       "      <td>Chief Executive Officer &amp; Director</td>\n",
       "      <td>5170</td>\n",
       "      <td>23.9</td>\n",
       "      <td>382.1</td>\n",
       "      <td>5.2</td>\n",
       "      <td>9737</td>\n",
       "    </tr>\n",
       "    <tr>\n",
       "      <th>497</th>\n",
       "      <td>498</td>\n",
       "      <td>Yahoo</td>\n",
       "      <td>8500</td>\n",
       "      <td>Technology</td>\n",
       "      <td>Internet Services and Retailing</td>\n",
       "      <td>Sunnyvale</td>\n",
       "      <td>Marissa A. Mayer</td>\n",
       "      <td>President, Chief Executive Officer &amp; Director</td>\n",
       "      <td>5169</td>\n",
       "      <td>4.0</td>\n",
       "      <td>-214.3</td>\n",
       "      <td>5.2</td>\n",
       "      <td>48083</td>\n",
       "    </tr>\n",
       "    <tr>\n",
       "      <th>498</th>\n",
       "      <td>499</td>\n",
       "      <td>Vistra Energy</td>\n",
       "      <td>4431</td>\n",
       "      <td>Energy</td>\n",
       "      <td>Energy</td>\n",
       "      <td>Dallas</td>\n",
       "      <td>Curtis A. Morgan</td>\n",
       "      <td>President, Chief Executive Officer &amp; Director</td>\n",
       "      <td>5164</td>\n",
       "      <td>4.0</td>\n",
       "      <td>-214.3</td>\n",
       "      <td>5.2</td>\n",
       "      <td>15167</td>\n",
       "    </tr>\n",
       "    <tr>\n",
       "      <th>499</th>\n",
       "      <td>500</td>\n",
       "      <td>ABM Industries</td>\n",
       "      <td>110000</td>\n",
       "      <td>Business Services</td>\n",
       "      <td>Diversified Outsourcing Services</td>\n",
       "      <td>New York</td>\n",
       "      <td>Scott B. Salmirs</td>\n",
       "      <td>President, Chief Executive Officer &amp; Director</td>\n",
       "      <td>5145</td>\n",
       "      <td>-2.8</td>\n",
       "      <td>57.2</td>\n",
       "      <td>-25</td>\n",
       "      <td>2281</td>\n",
       "    </tr>\n",
       "  </tbody>\n",
       "</table>\n",
       "</div>"
      ],
      "text/plain": [
       "     Rank           Title  Employees                      Sector  \\\n",
       "495   496   Michaels Cos.      31000                   Retailing   \n",
       "496   497   Toll Brothers       4200  Engineering & Construction   \n",
       "497   498           Yahoo       8500                  Technology   \n",
       "498   499   Vistra Energy       4431                      Energy   \n",
       "499   500  ABM Industries     110000           Business Services   \n",
       "\n",
       "                             Industry     Hqcity                     Ceo  \\\n",
       "495        Specialty Retailers: Other     Irving           Carl S. Rubin   \n",
       "496                      Homebuilders    Horsham  Douglas C. Yearley Jr.   \n",
       "497   Internet Services and Retailing  Sunnyvale        Marissa A. Mayer   \n",
       "498                            Energy     Dallas        Curtis A. Morgan   \n",
       "499  Diversified Outsourcing Services   New York        Scott B. Salmirs   \n",
       "\n",
       "                                         Ceo-title  Revenues  Revchange  \\\n",
       "495             Chairman & Chief Executive Officer      5197        5.8   \n",
       "496             Chief Executive Officer & Director      5170       23.9   \n",
       "497  President, Chief Executive Officer & Director      5169        4.0   \n",
       "498  President, Chief Executive Officer & Director      5164        4.0   \n",
       "499  President, Chief Executive Officer & Director      5145       -2.8   \n",
       "\n",
       "     Profits Prftchange  Assets  \n",
       "495    378.2        4.2    2148  \n",
       "496    382.1        5.2    9737  \n",
       "497   -214.3        5.2   48083  \n",
       "498   -214.3        5.2   15167  \n",
       "499     57.2        -25    2281  "
      ]
     },
     "execution_count": 4,
     "metadata": {},
     "output_type": "execute_result"
    }
   ],
   "source": [
    "# last 5 rows\n",
    "\n",
    "\n",
    "df.tail()"
   ]
  },
  {
   "cell_type": "code",
   "execution_count": 5,
   "metadata": {
    "colab": {
     "base_uri": "https://localhost:8080/"
    },
    "executionInfo": {
     "elapsed": 8,
     "status": "ok",
     "timestamp": 1729184920489,
     "user": {
      "displayName": "Suneet Paul",
      "userId": "13208453500650063933"
     },
     "user_tz": -330
    },
    "id": "BPExeDkJcZs2",
    "outputId": "298f1c53-b751-45d2-b6d3-3285a71133ac"
   },
   "outputs": [
    {
     "data": {
      "text/plain": [
       "(500, 13)"
      ]
     },
     "execution_count": 5,
     "metadata": {},
     "output_type": "execute_result"
    }
   ],
   "source": [
    "# rows n colums\n",
    "df.shape"
   ]
  },
  {
   "cell_type": "code",
   "execution_count": 6,
   "metadata": {
    "colab": {
     "base_uri": "https://localhost:8080/"
    },
    "executionInfo": {
     "elapsed": 485,
     "status": "ok",
     "timestamp": 1729184923480,
     "user": {
      "displayName": "Suneet Paul",
      "userId": "13208453500650063933"
     },
     "user_tz": -330
    },
    "id": "BQbxXwX5cbg1",
    "outputId": "8d429241-c069-4184-b489-cbacc4a7af73"
   },
   "outputs": [
    {
     "name": "stdout",
     "output_type": "stream",
     "text": [
      "<class 'pandas.core.frame.DataFrame'>\n",
      "RangeIndex: 500 entries, 0 to 499\n",
      "Data columns (total 13 columns):\n",
      " #   Column      Non-Null Count  Dtype  \n",
      "---  ------      --------------  -----  \n",
      " 0   Rank        500 non-null    int64  \n",
      " 1   Title       500 non-null    object \n",
      " 2   Employees   500 non-null    int64  \n",
      " 3   Sector      500 non-null    object \n",
      " 4   Industry    500 non-null    object \n",
      " 5   Hqcity      500 non-null    object \n",
      " 6   Ceo         500 non-null    object \n",
      " 7   Ceo-title   500 non-null    object \n",
      " 8   Revenues    500 non-null    int64  \n",
      " 9   Revchange   500 non-null    float64\n",
      " 10  Profits     500 non-null    float64\n",
      " 11  Prftchange  500 non-null    object \n",
      " 12  Assets      500 non-null    int64  \n",
      "dtypes: float64(2), int64(4), object(7)\n",
      "memory usage: 50.9+ KB\n"
     ]
    }
   ],
   "source": [
    "# information about the colums\n",
    "# very imp before working toh data set\n",
    "df.info()"
   ]
  },
  {
   "cell_type": "code",
   "execution_count": 7,
   "metadata": {
    "executionInfo": {
     "elapsed": 6,
     "status": "ok",
     "timestamp": 1729184925087,
     "user": {
      "displayName": "Suneet Paul",
      "userId": "13208453500650063933"
     },
     "user_tz": -330
    },
    "id": "yt5K7rTBcaYQ"
   },
   "outputs": [],
   "source": [
    "sub_df = df[['Rank','Title','Employees','Sector','Revenues','Profits']]"
   ]
  },
  {
   "cell_type": "code",
   "execution_count": 8,
   "metadata": {
    "colab": {
     "base_uri": "https://localhost:8080/",
     "height": 363
    },
    "executionInfo": {
     "elapsed": 10,
     "status": "ok",
     "timestamp": 1729184929720,
     "user": {
      "displayName": "Suneet Paul",
      "userId": "13208453500650063933"
     },
     "user_tz": -330
    },
    "id": "MNZfsgD5cYhv",
    "outputId": "cab13068-25f9-4ca7-8546-1f75a0f81a9b"
   },
   "outputs": [
    {
     "data": {
      "text/html": [
       "<div>\n",
       "<style scoped>\n",
       "    .dataframe tbody tr th:only-of-type {\n",
       "        vertical-align: middle;\n",
       "    }\n",
       "\n",
       "    .dataframe tbody tr th {\n",
       "        vertical-align: top;\n",
       "    }\n",
       "\n",
       "    .dataframe thead th {\n",
       "        text-align: right;\n",
       "    }\n",
       "</style>\n",
       "<table border=\"1\" class=\"dataframe\">\n",
       "  <thead>\n",
       "    <tr style=\"text-align: right;\">\n",
       "      <th></th>\n",
       "      <th>Rank</th>\n",
       "      <th>Title</th>\n",
       "      <th>Employees</th>\n",
       "      <th>Sector</th>\n",
       "      <th>Revenues</th>\n",
       "      <th>Profits</th>\n",
       "    </tr>\n",
       "  </thead>\n",
       "  <tbody>\n",
       "    <tr>\n",
       "      <th>0</th>\n",
       "      <td>1</td>\n",
       "      <td>Walmart</td>\n",
       "      <td>2300000</td>\n",
       "      <td>Retailing</td>\n",
       "      <td>485873</td>\n",
       "      <td>13643.0</td>\n",
       "    </tr>\n",
       "    <tr>\n",
       "      <th>1</th>\n",
       "      <td>2</td>\n",
       "      <td>Berkshire Hathaway</td>\n",
       "      <td>367700</td>\n",
       "      <td>Financials</td>\n",
       "      <td>223604</td>\n",
       "      <td>24074.0</td>\n",
       "    </tr>\n",
       "    <tr>\n",
       "      <th>2</th>\n",
       "      <td>3</td>\n",
       "      <td>Apple</td>\n",
       "      <td>116000</td>\n",
       "      <td>Technology</td>\n",
       "      <td>215639</td>\n",
       "      <td>45687.0</td>\n",
       "    </tr>\n",
       "    <tr>\n",
       "      <th>3</th>\n",
       "      <td>4</td>\n",
       "      <td>Exxon Mobil</td>\n",
       "      <td>72700</td>\n",
       "      <td>Energy</td>\n",
       "      <td>205004</td>\n",
       "      <td>7840.0</td>\n",
       "    </tr>\n",
       "    <tr>\n",
       "      <th>4</th>\n",
       "      <td>5</td>\n",
       "      <td>McKesson</td>\n",
       "      <td>68000</td>\n",
       "      <td>Wholesalers</td>\n",
       "      <td>192487</td>\n",
       "      <td>2258.0</td>\n",
       "    </tr>\n",
       "    <tr>\n",
       "      <th>5</th>\n",
       "      <td>6</td>\n",
       "      <td>UnitedHealth Group</td>\n",
       "      <td>230000</td>\n",
       "      <td>Health Care</td>\n",
       "      <td>184840</td>\n",
       "      <td>7017.0</td>\n",
       "    </tr>\n",
       "    <tr>\n",
       "      <th>6</th>\n",
       "      <td>7</td>\n",
       "      <td>CVS Health</td>\n",
       "      <td>204000</td>\n",
       "      <td>Health Care</td>\n",
       "      <td>177526</td>\n",
       "      <td>5317.0</td>\n",
       "    </tr>\n",
       "    <tr>\n",
       "      <th>7</th>\n",
       "      <td>8</td>\n",
       "      <td>General Motors</td>\n",
       "      <td>225000</td>\n",
       "      <td>Motor Vehicles &amp; Parts</td>\n",
       "      <td>166380</td>\n",
       "      <td>9427.0</td>\n",
       "    </tr>\n",
       "    <tr>\n",
       "      <th>8</th>\n",
       "      <td>9</td>\n",
       "      <td>AT&amp;T</td>\n",
       "      <td>268540</td>\n",
       "      <td>Telecommunications</td>\n",
       "      <td>163786</td>\n",
       "      <td>12976.0</td>\n",
       "    </tr>\n",
       "    <tr>\n",
       "      <th>9</th>\n",
       "      <td>10</td>\n",
       "      <td>Ford Motor</td>\n",
       "      <td>201000</td>\n",
       "      <td>Motor Vehicles &amp; Parts</td>\n",
       "      <td>151800</td>\n",
       "      <td>4596.0</td>\n",
       "    </tr>\n",
       "  </tbody>\n",
       "</table>\n",
       "</div>"
      ],
      "text/plain": [
       "   Rank               Title  Employees                  Sector  Revenues  \\\n",
       "0     1             Walmart    2300000               Retailing    485873   \n",
       "1     2  Berkshire Hathaway     367700              Financials    223604   \n",
       "2     3               Apple     116000              Technology    215639   \n",
       "3     4         Exxon Mobil      72700                  Energy    205004   \n",
       "4     5            McKesson      68000             Wholesalers    192487   \n",
       "5     6  UnitedHealth Group     230000             Health Care    184840   \n",
       "6     7          CVS Health     204000             Health Care    177526   \n",
       "7     8      General Motors     225000  Motor Vehicles & Parts    166380   \n",
       "8     9                AT&T     268540      Telecommunications    163786   \n",
       "9    10          Ford Motor     201000  Motor Vehicles & Parts    151800   \n",
       "\n",
       "   Profits  \n",
       "0  13643.0  \n",
       "1  24074.0  \n",
       "2  45687.0  \n",
       "3   7840.0  \n",
       "4   2258.0  \n",
       "5   7017.0  \n",
       "6   5317.0  \n",
       "7   9427.0  \n",
       "8  12976.0  \n",
       "9   4596.0  "
      ]
     },
     "execution_count": 8,
     "metadata": {},
     "output_type": "execute_result"
    }
   ],
   "source": [
    "sub_df.head(10)"
   ]
  },
  {
   "cell_type": "code",
   "execution_count": 9,
   "metadata": {
    "colab": {
     "base_uri": "https://localhost:8080/",
     "height": 363
    },
    "executionInfo": {
     "elapsed": 11,
     "status": "ok",
     "timestamp": 1729184931277,
     "user": {
      "displayName": "Suneet Paul",
      "userId": "13208453500650063933"
     },
     "user_tz": -330
    },
    "id": "egIVePMkciix",
    "outputId": "116916bf-52d8-41aa-e50f-1d26d4fb4a22"
   },
   "outputs": [
    {
     "data": {
      "text/html": [
       "<div>\n",
       "<style scoped>\n",
       "    .dataframe tbody tr th:only-of-type {\n",
       "        vertical-align: middle;\n",
       "    }\n",
       "\n",
       "    .dataframe tbody tr th {\n",
       "        vertical-align: top;\n",
       "    }\n",
       "\n",
       "    .dataframe thead th {\n",
       "        text-align: right;\n",
       "    }\n",
       "</style>\n",
       "<table border=\"1\" class=\"dataframe\">\n",
       "  <thead>\n",
       "    <tr style=\"text-align: right;\">\n",
       "      <th></th>\n",
       "      <th>Rank</th>\n",
       "      <th>Title</th>\n",
       "      <th>Employees</th>\n",
       "      <th>Sector</th>\n",
       "      <th>Revenues</th>\n",
       "      <th>Profits</th>\n",
       "    </tr>\n",
       "  </thead>\n",
       "  <tbody>\n",
       "    <tr>\n",
       "      <th>490</th>\n",
       "      <td>491</td>\n",
       "      <td>Liberty Media</td>\n",
       "      <td>3626</td>\n",
       "      <td>Media</td>\n",
       "      <td>5276</td>\n",
       "      <td>680.0</td>\n",
       "    </tr>\n",
       "    <tr>\n",
       "      <th>491</th>\n",
       "      <td>492</td>\n",
       "      <td>Rockwell Collins</td>\n",
       "      <td>19000</td>\n",
       "      <td>Aerospace &amp; Defense</td>\n",
       "      <td>5259</td>\n",
       "      <td>728.0</td>\n",
       "    </tr>\n",
       "    <tr>\n",
       "      <th>492</th>\n",
       "      <td>493</td>\n",
       "      <td>Robert Half International</td>\n",
       "      <td>16400</td>\n",
       "      <td>Business Services</td>\n",
       "      <td>5250</td>\n",
       "      <td>343.4</td>\n",
       "    </tr>\n",
       "    <tr>\n",
       "      <th>493</th>\n",
       "      <td>494</td>\n",
       "      <td>CH2M Hill</td>\n",
       "      <td>20000</td>\n",
       "      <td>Engineering &amp; Construction</td>\n",
       "      <td>5236</td>\n",
       "      <td>15.0</td>\n",
       "    </tr>\n",
       "    <tr>\n",
       "      <th>494</th>\n",
       "      <td>495</td>\n",
       "      <td>Big Lots</td>\n",
       "      <td>23150</td>\n",
       "      <td>Retailing</td>\n",
       "      <td>5200</td>\n",
       "      <td>152.8</td>\n",
       "    </tr>\n",
       "    <tr>\n",
       "      <th>495</th>\n",
       "      <td>496</td>\n",
       "      <td>Michaels Cos.</td>\n",
       "      <td>31000</td>\n",
       "      <td>Retailing</td>\n",
       "      <td>5197</td>\n",
       "      <td>378.2</td>\n",
       "    </tr>\n",
       "    <tr>\n",
       "      <th>496</th>\n",
       "      <td>497</td>\n",
       "      <td>Toll Brothers</td>\n",
       "      <td>4200</td>\n",
       "      <td>Engineering &amp; Construction</td>\n",
       "      <td>5170</td>\n",
       "      <td>382.1</td>\n",
       "    </tr>\n",
       "    <tr>\n",
       "      <th>497</th>\n",
       "      <td>498</td>\n",
       "      <td>Yahoo</td>\n",
       "      <td>8500</td>\n",
       "      <td>Technology</td>\n",
       "      <td>5169</td>\n",
       "      <td>-214.3</td>\n",
       "    </tr>\n",
       "    <tr>\n",
       "      <th>498</th>\n",
       "      <td>499</td>\n",
       "      <td>Vistra Energy</td>\n",
       "      <td>4431</td>\n",
       "      <td>Energy</td>\n",
       "      <td>5164</td>\n",
       "      <td>-214.3</td>\n",
       "    </tr>\n",
       "    <tr>\n",
       "      <th>499</th>\n",
       "      <td>500</td>\n",
       "      <td>ABM Industries</td>\n",
       "      <td>110000</td>\n",
       "      <td>Business Services</td>\n",
       "      <td>5145</td>\n",
       "      <td>57.2</td>\n",
       "    </tr>\n",
       "  </tbody>\n",
       "</table>\n",
       "</div>"
      ],
      "text/plain": [
       "     Rank                      Title  Employees                      Sector  \\\n",
       "490   491              Liberty Media       3626                       Media   \n",
       "491   492           Rockwell Collins      19000         Aerospace & Defense   \n",
       "492   493  Robert Half International      16400           Business Services   \n",
       "493   494                  CH2M Hill      20000  Engineering & Construction   \n",
       "494   495                   Big Lots      23150                   Retailing   \n",
       "495   496              Michaels Cos.      31000                   Retailing   \n",
       "496   497              Toll Brothers       4200  Engineering & Construction   \n",
       "497   498                      Yahoo       8500                  Technology   \n",
       "498   499              Vistra Energy       4431                      Energy   \n",
       "499   500             ABM Industries     110000           Business Services   \n",
       "\n",
       "     Revenues  Profits  \n",
       "490      5276    680.0  \n",
       "491      5259    728.0  \n",
       "492      5250    343.4  \n",
       "493      5236     15.0  \n",
       "494      5200    152.8  \n",
       "495      5197    378.2  \n",
       "496      5170    382.1  \n",
       "497      5169   -214.3  \n",
       "498      5164   -214.3  \n",
       "499      5145     57.2  "
      ]
     },
     "execution_count": 9,
     "metadata": {},
     "output_type": "execute_result"
    }
   ],
   "source": [
    "sub_df.tail(10)"
   ]
  },
  {
   "cell_type": "code",
   "execution_count": 10,
   "metadata": {
    "colab": {
     "base_uri": "https://localhost:8080/",
     "height": 300
    },
    "executionInfo": {
     "elapsed": 11,
     "status": "ok",
     "timestamp": 1729184933189,
     "user": {
      "displayName": "Suneet Paul",
      "userId": "13208453500650063933"
     },
     "user_tz": -330
    },
    "id": "58OnESlHcj6T",
    "outputId": "5a9286ca-b3d5-49ed-f9a8-98f0b256f669"
   },
   "outputs": [
    {
     "data": {
      "text/html": [
       "<div>\n",
       "<style scoped>\n",
       "    .dataframe tbody tr th:only-of-type {\n",
       "        vertical-align: middle;\n",
       "    }\n",
       "\n",
       "    .dataframe tbody tr th {\n",
       "        vertical-align: top;\n",
       "    }\n",
       "\n",
       "    .dataframe thead th {\n",
       "        text-align: right;\n",
       "    }\n",
       "</style>\n",
       "<table border=\"1\" class=\"dataframe\">\n",
       "  <thead>\n",
       "    <tr style=\"text-align: right;\">\n",
       "      <th></th>\n",
       "      <th>Rank</th>\n",
       "      <th>Employees</th>\n",
       "      <th>Revenues</th>\n",
       "      <th>Profits</th>\n",
       "    </tr>\n",
       "  </thead>\n",
       "  <tbody>\n",
       "    <tr>\n",
       "      <th>count</th>\n",
       "      <td>500.000000</td>\n",
       "      <td>5.000000e+02</td>\n",
       "      <td>500.000000</td>\n",
       "      <td>500.000000</td>\n",
       "    </tr>\n",
       "    <tr>\n",
       "      <th>mean</th>\n",
       "      <td>250.492000</td>\n",
       "      <td>5.635013e+04</td>\n",
       "      <td>24111.748000</td>\n",
       "      <td>1779.479800</td>\n",
       "    </tr>\n",
       "    <tr>\n",
       "      <th>std</th>\n",
       "      <td>144.477366</td>\n",
       "      <td>1.234520e+05</td>\n",
       "      <td>38337.353337</td>\n",
       "      <td>3937.558721</td>\n",
       "    </tr>\n",
       "    <tr>\n",
       "      <th>min</th>\n",
       "      <td>1.000000</td>\n",
       "      <td>8.300000e+01</td>\n",
       "      <td>5145.000000</td>\n",
       "      <td>-6177.000000</td>\n",
       "    </tr>\n",
       "    <tr>\n",
       "      <th>25%</th>\n",
       "      <td>125.750000</td>\n",
       "      <td>1.190000e+04</td>\n",
       "      <td>7245.000000</td>\n",
       "      <td>235.725000</td>\n",
       "    </tr>\n",
       "    <tr>\n",
       "      <th>50%</th>\n",
       "      <td>250.500000</td>\n",
       "      <td>2.500000e+04</td>\n",
       "      <td>11384.000000</td>\n",
       "      <td>683.600000</td>\n",
       "    </tr>\n",
       "    <tr>\n",
       "      <th>75%</th>\n",
       "      <td>375.250000</td>\n",
       "      <td>5.682525e+04</td>\n",
       "      <td>22605.250000</td>\n",
       "      <td>1770.775000</td>\n",
       "    </tr>\n",
       "    <tr>\n",
       "      <th>max</th>\n",
       "      <td>500.000000</td>\n",
       "      <td>2.300000e+06</td>\n",
       "      <td>485873.000000</td>\n",
       "      <td>45687.000000</td>\n",
       "    </tr>\n",
       "  </tbody>\n",
       "</table>\n",
       "</div>"
      ],
      "text/plain": [
       "             Rank     Employees       Revenues       Profits\n",
       "count  500.000000  5.000000e+02     500.000000    500.000000\n",
       "mean   250.492000  5.635013e+04   24111.748000   1779.479800\n",
       "std    144.477366  1.234520e+05   38337.353337   3937.558721\n",
       "min      1.000000  8.300000e+01    5145.000000  -6177.000000\n",
       "25%    125.750000  1.190000e+04    7245.000000    235.725000\n",
       "50%    250.500000  2.500000e+04   11384.000000    683.600000\n",
       "75%    375.250000  5.682525e+04   22605.250000   1770.775000\n",
       "max    500.000000  2.300000e+06  485873.000000  45687.000000"
      ]
     },
     "execution_count": 10,
     "metadata": {},
     "output_type": "execute_result"
    }
   ],
   "source": [
    "sub_df.describe()"
   ]
  },
  {
   "cell_type": "code",
   "execution_count": 11,
   "metadata": {
    "colab": {
     "base_uri": "https://localhost:8080/"
    },
    "executionInfo": {
     "elapsed": 7,
     "status": "ok",
     "timestamp": 1729184934759,
     "user": {
      "displayName": "Suneet Paul",
      "userId": "13208453500650063933"
     },
     "user_tz": -330
    },
    "id": "me8QNCmpclLl",
    "outputId": "abdbf9c6-4313-495a-a85f-b540d2e47818"
   },
   "outputs": [
    {
     "data": {
      "text/plain": [
       "24111.748"
      ]
     },
     "execution_count": 11,
     "metadata": {},
     "output_type": "execute_result"
    }
   ],
   "source": [
    "mean_revenues = sub_df['Revenues'].mean()\n",
    "mean_revenues"
   ]
  },
  {
   "cell_type": "code",
   "execution_count": 12,
   "metadata": {
    "colab": {
     "base_uri": "https://localhost:8080/"
    },
    "executionInfo": {
     "elapsed": 6,
     "status": "ok",
     "timestamp": 1729184936432,
     "user": {
      "displayName": "Suneet Paul",
      "userId": "13208453500650063933"
     },
     "user_tz": -330
    },
    "id": "xUodIaskcmxw",
    "outputId": "17a14758-9896-409b-cce4-e9ea86fc9215"
   },
   "outputs": [
    {
     "data": {
      "text/plain": [
       "11384.0"
      ]
     },
     "execution_count": 12,
     "metadata": {},
     "output_type": "execute_result"
    }
   ],
   "source": [
    "median_revenues = sub_df['Revenues'].median()\n",
    "median_revenues"
   ]
  },
  {
   "cell_type": "code",
   "execution_count": 13,
   "metadata": {
    "colab": {
     "base_uri": "https://localhost:8080/",
     "height": 115
    },
    "executionInfo": {
     "elapsed": 496,
     "status": "ok",
     "timestamp": 1729184939743,
     "user": {
      "displayName": "Suneet Paul",
      "userId": "13208453500650063933"
     },
     "user_tz": -330
    },
    "id": "Hi4n67pmcoPl",
    "outputId": "c9228efb-78ff-4103-c3a3-b7c3f1e8351e"
   },
   "outputs": [
    {
     "data": {
      "text/plain": [
       "0    9061\n",
       "Name: Revenues, dtype: int64"
      ]
     },
     "execution_count": 13,
     "metadata": {},
     "output_type": "execute_result"
    }
   ],
   "source": [
    "mode_revenues = sub_df['Revenues'].mode()\n",
    "mode_revenues"
   ]
  },
  {
   "cell_type": "code",
   "execution_count": 14,
   "metadata": {
    "colab": {
     "base_uri": "https://localhost:8080/"
    },
    "executionInfo": {
     "elapsed": 435,
     "status": "ok",
     "timestamp": 1729184944642,
     "user": {
      "displayName": "Suneet Paul",
      "userId": "13208453500650063933"
     },
     "user_tz": -330
    },
    "id": "3sqfkKqscpdT",
    "outputId": "2b011815-0419-429c-8d0f-cee000412ec5"
   },
   "outputs": [
    {
     "data": {
      "text/plain": [
       "5145"
      ]
     },
     "execution_count": 14,
     "metadata": {},
     "output_type": "execute_result"
    }
   ],
   "source": [
    "s = sub_df['Revenues'].min()\n",
    "s"
   ]
  },
  {
   "cell_type": "code",
   "execution_count": 15,
   "metadata": {
    "colab": {
     "base_uri": "https://localhost:8080/"
    },
    "executionInfo": {
     "elapsed": 6,
     "status": "ok",
     "timestamp": 1729184946262,
     "user": {
      "displayName": "Suneet Paul",
      "userId": "13208453500650063933"
     },
     "user_tz": -330
    },
    "id": "zzMAZ29FcquJ",
    "outputId": "e94195ee-0aec-4ad4-d264-047201e65732"
   },
   "outputs": [
    {
     "data": {
      "text/plain": [
       "485873"
      ]
     },
     "execution_count": 15,
     "metadata": {},
     "output_type": "execute_result"
    }
   ],
   "source": [
    "L= sub_df['Revenues'].max()\n",
    "L"
   ]
  },
  {
   "cell_type": "code",
   "execution_count": 16,
   "metadata": {
    "colab": {
     "base_uri": "https://localhost:8080/"
    },
    "executionInfo": {
     "elapsed": 8,
     "status": "ok",
     "timestamp": 1729184947844,
     "user": {
      "displayName": "Suneet Paul",
      "userId": "13208453500650063933"
     },
     "user_tz": -330
    },
    "id": "aUyf4OVfcsA1",
    "outputId": "844e518c-a822-4ec1-cb99-55fcac7ce684"
   },
   "outputs": [
    {
     "data": {
      "text/plain": [
       "480728"
      ]
     },
     "execution_count": 16,
     "metadata": {},
     "output_type": "execute_result"
    }
   ],
   "source": [
    "range = L-s\n",
    "range"
   ]
  },
  {
   "cell_type": "code",
   "execution_count": 17,
   "metadata": {
    "colab": {
     "base_uri": "https://localhost:8080/"
    },
    "executionInfo": {
     "elapsed": 467,
     "status": "ok",
     "timestamp": 1729184950498,
     "user": {
      "displayName": "Suneet Paul",
      "userId": "13208453500650063933"
     },
     "user_tz": -330
    },
    "id": "LiPi2tDGctcz",
    "outputId": "488a070c-a50a-40aa-b66a-f874b9744a32"
   },
   "outputs": [
    {
     "data": {
      "text/plain": [
       "480728"
      ]
     },
     "execution_count": 17,
     "metadata": {},
     "output_type": "execute_result"
    }
   ],
   "source": [
    "rangee = sub_df['Revenues'].max()-sub_df['Revenues'].min()\n",
    "rangee"
   ]
  },
  {
   "cell_type": "code",
   "execution_count": 18,
   "metadata": {
    "executionInfo": {
     "elapsed": 4,
     "status": "ok",
     "timestamp": 1729184952251,
     "user": {
      "displayName": "Suneet Paul",
      "userId": "13208453500650063933"
     },
     "user_tz": -330
    },
    "id": "0t2rpZIAdGRz"
   },
   "outputs": [
    {
     "data": {
      "text/plain": [
       "38337.35333653324"
      ]
     },
     "execution_count": 18,
     "metadata": {},
     "output_type": "execute_result"
    }
   ],
   "source": [
    "sd = sub_df['Revenues'].std()\n",
    "sd"
   ]
  },
  {
   "cell_type": "code",
   "execution_count": 19,
   "metadata": {},
   "outputs": [
    {
     "data": {
      "text/plain": [
       "1469752660.8501961"
      ]
     },
     "execution_count": 19,
     "metadata": {},
     "output_type": "execute_result"
    }
   ],
   "source": [
    "var = sub_df['Revenues'].var()\n",
    "var"
   ]
  },
  {
   "cell_type": "markdown",
   "metadata": {},
   "source": [
    "IQR"
   ]
  },
  {
   "cell_type": "code",
   "execution_count": 20,
   "metadata": {},
   "outputs": [],
   "source": [
    "#quantile \n",
    "# p75 =  Q3  AND P25 = Q1\n"
   ]
  },
  {
   "cell_type": "code",
   "execution_count": 21,
   "metadata": {},
   "outputs": [
    {
     "data": {
      "text/plain": [
       "7245.0"
      ]
     },
     "execution_count": 21,
     "metadata": {},
     "output_type": "execute_result"
    }
   ],
   "source": [
    "q1=sub_df['Revenues'].quantile(0.25)\n",
    "q1"
   ]
  },
  {
   "cell_type": "code",
   "execution_count": 22,
   "metadata": {},
   "outputs": [
    {
     "data": {
      "text/plain": [
       "22605.25"
      ]
     },
     "execution_count": 22,
     "metadata": {},
     "output_type": "execute_result"
    }
   ],
   "source": [
    "q3 =sub_df['Revenues'].quantile(0.75)\n",
    "q3"
   ]
  },
  {
   "cell_type": "code",
   "execution_count": 23,
   "metadata": {},
   "outputs": [
    {
     "data": {
      "text/plain": [
       "15360.25"
      ]
     },
     "execution_count": 23,
     "metadata": {},
     "output_type": "execute_result"
    }
   ],
   "source": [
    "iqr = q3 -q1\n",
    "iqr"
   ]
  },
  {
   "cell_type": "code",
   "execution_count": 24,
   "metadata": {},
   "outputs": [
    {
     "data": {
      "text/plain": [
       "15360.25"
      ]
     },
     "execution_count": 24,
     "metadata": {},
     "output_type": "execute_result"
    }
   ],
   "source": [
    "# iqr = q3 -a1\n",
    "\n",
    "iqr2 = sub_df['Revenues'].quantile(0.75) - sub_df['Revenues'].quantile(0.25)\n",
    "iqr2"
   ]
  },
  {
   "cell_type": "code",
   "execution_count": 25,
   "metadata": {},
   "outputs": [
    {
     "data": {
      "text/plain": [
       "5.480066970305041"
      ]
     },
     "execution_count": 25,
     "metadata": {},
     "output_type": "execute_result"
    }
   ],
   "source": [
    "skew = sub_df['Revenues'].skew()\n",
    "skew"
   ]
  },
  {
   "cell_type": "markdown",
   "metadata": {},
   "source": [
    "import seaborn as sns"
   ]
  },
  {
   "cell_type": "markdown",
   "metadata": {},
   "source": [
    "cv = sd / mean *100"
   ]
  },
  {
   "cell_type": "code",
   "execution_count": 26,
   "metadata": {},
   "outputs": [
    {
     "data": {
      "text/plain": [
       "158.99864803055027"
      ]
     },
     "execution_count": 26,
     "metadata": {},
     "output_type": "execute_result"
    }
   ],
   "source": [
    "cv = (sd/mean_revenues)*100\n",
    "cv"
   ]
  },
  {
   "cell_type": "code",
   "execution_count": 27,
   "metadata": {},
   "outputs": [
    {
     "data": {
      "text/plain": [
       "158.99864803055027"
      ]
     },
     "execution_count": 27,
     "metadata": {},
     "output_type": "execute_result"
    }
   ],
   "source": [
    "cv2 = (sub_df['Revenues'].std() / sub_df['Revenues'].mean())*100\n",
    "cv2"
   ]
  },
  {
   "cell_type": "code",
   "execution_count": 28,
   "metadata": {},
   "outputs": [
    {
     "name": "stdout",
     "output_type": "stream",
     "text": [
      "the cv of revenues columb is  159 %\n"
     ]
    }
   ],
   "source": [
    "print('the cv of revenues columb is ' , round(cv2), '%')"
   ]
  },
  {
   "cell_type": "markdown",
   "metadata": {},
   "source": [
    "which amongst the revenuse or profits display more stabvility ?\n"
   ]
  },
  {
   "cell_type": "code",
   "execution_count": 29,
   "metadata": {},
   "outputs": [
    {
     "data": {
      "text/plain": [
       "221.2758313353473"
      ]
     },
     "execution_count": 29,
     "metadata": {},
     "output_type": "execute_result"
    }
   ],
   "source": [
    "cv3 = (sub_df['Profits'].std() / sub_df['Profits'].mean())*100\n",
    "cv3"
   ]
  },
  {
   "cell_type": "markdown",
   "metadata": {},
   "source": [
    "revenuse has less cv  , more stabvility\n",
    "\n",
    "Profits has more cv ,less stabvility "
   ]
  },
  {
   "cell_type": "markdown",
   "metadata": {},
   "source": [
    "random value "
   ]
  },
  {
   "cell_type": "code",
   "execution_count": 30,
   "metadata": {},
   "outputs": [
    {
     "data": {
      "text/html": [
       "<div>\n",
       "<style scoped>\n",
       "    .dataframe tbody tr th:only-of-type {\n",
       "        vertical-align: middle;\n",
       "    }\n",
       "\n",
       "    .dataframe tbody tr th {\n",
       "        vertical-align: top;\n",
       "    }\n",
       "\n",
       "    .dataframe thead th {\n",
       "        text-align: right;\n",
       "    }\n",
       "</style>\n",
       "<table border=\"1\" class=\"dataframe\">\n",
       "  <thead>\n",
       "    <tr style=\"text-align: right;\">\n",
       "      <th></th>\n",
       "      <th>Rank</th>\n",
       "      <th>Title</th>\n",
       "      <th>Employees</th>\n",
       "      <th>Sector</th>\n",
       "      <th>Revenues</th>\n",
       "      <th>Profits</th>\n",
       "    </tr>\n",
       "  </thead>\n",
       "  <tbody>\n",
       "    <tr>\n",
       "      <th>268</th>\n",
       "      <td>269</td>\n",
       "      <td>Liberty Interactive</td>\n",
       "      <td>21080</td>\n",
       "      <td>Retailing</td>\n",
       "      <td>10647</td>\n",
       "      <td>1235.0</td>\n",
       "    </tr>\n",
       "    <tr>\n",
       "      <th>83</th>\n",
       "      <td>84</td>\n",
       "      <td>Allstate</td>\n",
       "      <td>43275</td>\n",
       "      <td>Financials</td>\n",
       "      <td>36534</td>\n",
       "      <td>1877.0</td>\n",
       "    </tr>\n",
       "    <tr>\n",
       "      <th>498</th>\n",
       "      <td>499</td>\n",
       "      <td>Vistra Energy</td>\n",
       "      <td>4431</td>\n",
       "      <td>Energy</td>\n",
       "      <td>5164</td>\n",
       "      <td>-214.3</td>\n",
       "    </tr>\n",
       "    <tr>\n",
       "      <th>372</th>\n",
       "      <td>373</td>\n",
       "      <td>WESCO International</td>\n",
       "      <td>9000</td>\n",
       "      <td>Wholesalers</td>\n",
       "      <td>7336</td>\n",
       "      <td>101.6</td>\n",
       "    </tr>\n",
       "    <tr>\n",
       "      <th>472</th>\n",
       "      <td>473</td>\n",
       "      <td>Insight Enterprises</td>\n",
       "      <td>5930</td>\n",
       "      <td>Wholesalers</td>\n",
       "      <td>5486</td>\n",
       "      <td>84.7</td>\n",
       "    </tr>\n",
       "  </tbody>\n",
       "</table>\n",
       "</div>"
      ],
      "text/plain": [
       "     Rank                Title  Employees       Sector  Revenues  Profits\n",
       "268   269  Liberty Interactive      21080    Retailing     10647   1235.0\n",
       "83     84             Allstate      43275   Financials     36534   1877.0\n",
       "498   499        Vistra Energy       4431       Energy      5164   -214.3\n",
       "372   373  WESCO International       9000  Wholesalers      7336    101.6\n",
       "472   473  Insight Enterprises       5930  Wholesalers      5486     84.7"
      ]
     },
     "execution_count": 30,
     "metadata": {},
     "output_type": "execute_result"
    }
   ],
   "source": [
    "sub_df.sample(frac= 0.01)"
   ]
  },
  {
   "cell_type": "code",
   "execution_count": 31,
   "metadata": {},
   "outputs": [
    {
     "data": {
      "text/html": [
       "<div>\n",
       "<style scoped>\n",
       "    .dataframe tbody tr th:only-of-type {\n",
       "        vertical-align: middle;\n",
       "    }\n",
       "\n",
       "    .dataframe tbody tr th {\n",
       "        vertical-align: top;\n",
       "    }\n",
       "\n",
       "    .dataframe thead th {\n",
       "        text-align: right;\n",
       "    }\n",
       "</style>\n",
       "<table border=\"1\" class=\"dataframe\">\n",
       "  <thead>\n",
       "    <tr style=\"text-align: right;\">\n",
       "      <th></th>\n",
       "      <th>Rank</th>\n",
       "      <th>Title</th>\n",
       "      <th>Employees</th>\n",
       "      <th>Sector</th>\n",
       "      <th>Revenues</th>\n",
       "      <th>Profits</th>\n",
       "    </tr>\n",
       "  </thead>\n",
       "  <tbody>\n",
       "    <tr>\n",
       "      <th>499</th>\n",
       "      <td>500</td>\n",
       "      <td>ABM Industries</td>\n",
       "      <td>110000</td>\n",
       "      <td>Business Services</td>\n",
       "      <td>5145</td>\n",
       "      <td>57.2</td>\n",
       "    </tr>\n",
       "    <tr>\n",
       "      <th>368</th>\n",
       "      <td>369</td>\n",
       "      <td>Hershey</td>\n",
       "      <td>17140</td>\n",
       "      <td>Food, Beverages &amp; Tobacco</td>\n",
       "      <td>7440</td>\n",
       "      <td>720.0</td>\n",
       "    </tr>\n",
       "    <tr>\n",
       "      <th>54</th>\n",
       "      <td>55</td>\n",
       "      <td>AIG</td>\n",
       "      <td>56400</td>\n",
       "      <td>Financials</td>\n",
       "      <td>52367</td>\n",
       "      <td>-849.0</td>\n",
       "    </tr>\n",
       "    <tr>\n",
       "      <th>391</th>\n",
       "      <td>392</td>\n",
       "      <td>Dover</td>\n",
       "      <td>29000</td>\n",
       "      <td>Industrials</td>\n",
       "      <td>6794</td>\n",
       "      <td>508.9</td>\n",
       "    </tr>\n",
       "    <tr>\n",
       "      <th>246</th>\n",
       "      <td>247</td>\n",
       "      <td>Core-Mark Holding</td>\n",
       "      <td>7688</td>\n",
       "      <td>Wholesalers</td>\n",
       "      <td>11507</td>\n",
       "      <td>54.2</td>\n",
       "    </tr>\n",
       "  </tbody>\n",
       "</table>\n",
       "</div>"
      ],
      "text/plain": [
       "     Rank              Title  Employees                     Sector  Revenues  \\\n",
       "499   500     ABM Industries     110000          Business Services      5145   \n",
       "368   369            Hershey      17140  Food, Beverages & Tobacco      7440   \n",
       "54     55                AIG      56400                 Financials     52367   \n",
       "391   392              Dover      29000                Industrials      6794   \n",
       "246   247  Core-Mark Holding       7688                Wholesalers     11507   \n",
       "\n",
       "     Profits  \n",
       "499     57.2  \n",
       "368    720.0  \n",
       "54    -849.0  \n",
       "391    508.9  \n",
       "246     54.2  "
      ]
     },
     "execution_count": 31,
     "metadata": {},
     "output_type": "execute_result"
    }
   ],
   "source": [
    "sub_df.sample(5)"
   ]
  },
  {
   "cell_type": "code",
   "execution_count": 32,
   "metadata": {},
   "outputs": [
    {
     "data": {
      "text/html": [
       "<div>\n",
       "<style scoped>\n",
       "    .dataframe tbody tr th:only-of-type {\n",
       "        vertical-align: middle;\n",
       "    }\n",
       "\n",
       "    .dataframe tbody tr th {\n",
       "        vertical-align: top;\n",
       "    }\n",
       "\n",
       "    .dataframe thead th {\n",
       "        text-align: right;\n",
       "    }\n",
       "</style>\n",
       "<table border=\"1\" class=\"dataframe\">\n",
       "  <thead>\n",
       "    <tr style=\"text-align: right;\">\n",
       "      <th></th>\n",
       "      <th>Rank</th>\n",
       "      <th>Title</th>\n",
       "      <th>Employees</th>\n",
       "      <th>Sector</th>\n",
       "      <th>Revenues</th>\n",
       "      <th>Profits</th>\n",
       "    </tr>\n",
       "  </thead>\n",
       "  <tbody>\n",
       "    <tr>\n",
       "      <th>221</th>\n",
       "      <td>222</td>\n",
       "      <td>Farmers Insurance Exchange</td>\n",
       "      <td>13309</td>\n",
       "      <td>Financials</td>\n",
       "      <td>12513</td>\n",
       "      <td>-147.9</td>\n",
       "    </tr>\n",
       "    <tr>\n",
       "      <th>209</th>\n",
       "      <td>210</td>\n",
       "      <td>Marsh &amp; McLennan</td>\n",
       "      <td>60000</td>\n",
       "      <td>Financials</td>\n",
       "      <td>13211</td>\n",
       "      <td>1768.0</td>\n",
       "    </tr>\n",
       "    <tr>\n",
       "      <th>469</th>\n",
       "      <td>470</td>\n",
       "      <td>TravelCenters of America</td>\n",
       "      <td>20259</td>\n",
       "      <td>Retailing</td>\n",
       "      <td>5511</td>\n",
       "      <td>-2.0</td>\n",
       "    </tr>\n",
       "    <tr>\n",
       "      <th>53</th>\n",
       "      <td>54</td>\n",
       "      <td>Pfizer</td>\n",
       "      <td>96500</td>\n",
       "      <td>Health Care</td>\n",
       "      <td>52824</td>\n",
       "      <td>7215.0</td>\n",
       "    </tr>\n",
       "    <tr>\n",
       "      <th>394</th>\n",
       "      <td>395</td>\n",
       "      <td>A-Mark Precious Metals</td>\n",
       "      <td>83</td>\n",
       "      <td>Materials</td>\n",
       "      <td>6784</td>\n",
       "      <td>9.3</td>\n",
       "    </tr>\n",
       "    <tr>\n",
       "      <th>...</th>\n",
       "      <td>...</td>\n",
       "      <td>...</td>\n",
       "      <td>...</td>\n",
       "      <td>...</td>\n",
       "      <td>...</td>\n",
       "      <td>...</td>\n",
       "    </tr>\n",
       "    <tr>\n",
       "      <th>258</th>\n",
       "      <td>259</td>\n",
       "      <td>Jacobs Engineering Group</td>\n",
       "      <td>49350</td>\n",
       "      <td>Engineering &amp; Construction</td>\n",
       "      <td>10964</td>\n",
       "      <td>210.5</td>\n",
       "    </tr>\n",
       "    <tr>\n",
       "      <th>212</th>\n",
       "      <td>213</td>\n",
       "      <td>Loews</td>\n",
       "      <td>15800</td>\n",
       "      <td>Financials</td>\n",
       "      <td>13105</td>\n",
       "      <td>654.0</td>\n",
       "    </tr>\n",
       "    <tr>\n",
       "      <th>11</th>\n",
       "      <td>12</td>\n",
       "      <td>Amazon.com</td>\n",
       "      <td>341400</td>\n",
       "      <td>Technology</td>\n",
       "      <td>135987</td>\n",
       "      <td>2371.0</td>\n",
       "    </tr>\n",
       "    <tr>\n",
       "      <th>295</th>\n",
       "      <td>296</td>\n",
       "      <td>Hertz Global Holdings</td>\n",
       "      <td>36000</td>\n",
       "      <td>Retailing</td>\n",
       "      <td>9480</td>\n",
       "      <td>-491.0</td>\n",
       "    </tr>\n",
       "    <tr>\n",
       "      <th>491</th>\n",
       "      <td>492</td>\n",
       "      <td>Rockwell Collins</td>\n",
       "      <td>19000</td>\n",
       "      <td>Aerospace &amp; Defense</td>\n",
       "      <td>5259</td>\n",
       "      <td>728.0</td>\n",
       "    </tr>\n",
       "  </tbody>\n",
       "</table>\n",
       "<p>350 rows × 6 columns</p>\n",
       "</div>"
      ],
      "text/plain": [
       "     Rank                       Title  Employees                      Sector  \\\n",
       "221   222  Farmers Insurance Exchange      13309                  Financials   \n",
       "209   210            Marsh & McLennan      60000                  Financials   \n",
       "469   470    TravelCenters of America      20259                   Retailing   \n",
       "53     54                      Pfizer      96500                 Health Care   \n",
       "394   395      A-Mark Precious Metals         83                   Materials   \n",
       "..    ...                         ...        ...                         ...   \n",
       "258   259    Jacobs Engineering Group      49350  Engineering & Construction   \n",
       "212   213                       Loews      15800                  Financials   \n",
       "11     12                  Amazon.com     341400                  Technology   \n",
       "295   296       Hertz Global Holdings      36000                   Retailing   \n",
       "491   492            Rockwell Collins      19000         Aerospace & Defense   \n",
       "\n",
       "     Revenues  Profits  \n",
       "221     12513   -147.9  \n",
       "209     13211   1768.0  \n",
       "469      5511     -2.0  \n",
       "53      52824   7215.0  \n",
       "394      6784      9.3  \n",
       "..        ...      ...  \n",
       "258     10964    210.5  \n",
       "212     13105    654.0  \n",
       "11     135987   2371.0  \n",
       "295      9480   -491.0  \n",
       "491      5259    728.0  \n",
       "\n",
       "[350 rows x 6 columns]"
      ]
     },
     "execution_count": 32,
     "metadata": {},
     "output_type": "execute_result"
    }
   ],
   "source": [
    "df_sample = sub_df.sample(frac=0.70)\n",
    "df_sample"
   ]
  },
  {
   "cell_type": "code",
   "execution_count": 33,
   "metadata": {},
   "outputs": [
    {
     "ename": "SyntaxError",
     "evalue": "invalid syntax (1755820784.py, line 1)",
     "output_type": "error",
     "traceback": [
      "\u001b[1;36m  Cell \u001b[1;32mIn[33], line 1\u001b[1;36m\u001b[0m\n\u001b[1;33m    random fix , its should be run\u001b[0m\n\u001b[1;37m           ^\u001b[0m\n\u001b[1;31mSyntaxError\u001b[0m\u001b[1;31m:\u001b[0m invalid syntax\n"
     ]
    }
   ],
   "source": [
    "random fix , its should be run "
   ]
  },
  {
   "cell_type": "code",
   "execution_count": 49,
   "metadata": {},
   "outputs": [
    {
     "data": {
      "text/plain": [
       "24044.977142857144"
      ]
     },
     "execution_count": 49,
     "metadata": {},
     "output_type": "execute_result"
    }
   ],
   "source": [
    "df_sample = sub_df.sample(frac=0.70 , random_state= 0  ) \n",
    "#df_sample\n",
    "mean2 = df_sample['Revenues'].mean()\n",
    "mean2"
   ]
  },
  {
   "cell_type": "code",
   "execution_count": 51,
   "metadata": {},
   "outputs": [
    {
     "data": {
      "text/plain": [
       "23581.79142857143"
      ]
     },
     "execution_count": 51,
     "metadata": {},
     "output_type": "execute_result"
    }
   ],
   "source": [
    "df_sample = sub_df.sample(frac=0.70 , random_state= 1  ) \n",
    "#df_sample\n",
    "mean3 = df_sample['Revenues'].mean()\n",
    "mean3"
   ]
  },
  {
   "cell_type": "code",
   "execution_count": 52,
   "metadata": {},
   "outputs": [
    {
     "data": {
      "text/plain": [
       "24044.977142857144"
      ]
     },
     "execution_count": 52,
     "metadata": {},
     "output_type": "execute_result"
    }
   ],
   "source": [
    "# print mean 2 in diff variable \n",
    "\n",
    "df_sample = sub_df.sample(frac=0.70 , random_state= 0  ) \n",
    "#df_sample\n",
    "m = df_sample['Revenues'].mean()\n",
    "m\n"
   ]
  },
  {
   "cell_type": "code",
   "execution_count": 36,
   "metadata": {},
   "outputs": [
    {
     "data": {
      "text/plain": [
       "15360.25"
      ]
     },
     "execution_count": 36,
     "metadata": {},
     "output_type": "execute_result"
    }
   ],
   "source": [
    "iqr_new = sub_df['Revenues'].quantile(0.75)-sub_df['Revenues'].quantile(0.25)\n",
    "iqr_new"
   ]
  },
  {
   "cell_type": "code",
   "execution_count": 37,
   "metadata": {},
   "outputs": [
    {
     "data": {
      "text/plain": [
       "45645.625"
      ]
     },
     "execution_count": 37,
     "metadata": {},
     "output_type": "execute_result"
    }
   ],
   "source": [
    "upper_limits = sub_df['Revenues'].quantile(0.75) + 1.5*iqr_new \n",
    "upper_limits"
   ]
  },
  {
   "cell_type": "code",
   "execution_count": 38,
   "metadata": {},
   "outputs": [
    {
     "data": {
      "text/plain": [
       "-15795.375"
      ]
     },
     "execution_count": 38,
     "metadata": {},
     "output_type": "execute_result"
    }
   ],
   "source": [
    "lowert_limits = sub_df['Revenues'].quantile(0.25) - 1.5*iqr_new \n",
    "lowert_limits"
   ]
  },
  {
   "cell_type": "code",
   "execution_count": 51,
   "metadata": {},
   "outputs": [
    {
     "data": {
      "text/html": [
       "<div>\n",
       "<style scoped>\n",
       "    .dataframe tbody tr th:only-of-type {\n",
       "        vertical-align: middle;\n",
       "    }\n",
       "\n",
       "    .dataframe tbody tr th {\n",
       "        vertical-align: top;\n",
       "    }\n",
       "\n",
       "    .dataframe thead th {\n",
       "        text-align: right;\n",
       "    }\n",
       "</style>\n",
       "<table border=\"1\" class=\"dataframe\">\n",
       "  <thead>\n",
       "    <tr style=\"text-align: right;\">\n",
       "      <th></th>\n",
       "      <th>Rank</th>\n",
       "      <th>Title</th>\n",
       "      <th>Employees</th>\n",
       "      <th>Sector</th>\n",
       "      <th>Revenues</th>\n",
       "      <th>Profits</th>\n",
       "    </tr>\n",
       "  </thead>\n",
       "  <tbody>\n",
       "    <tr>\n",
       "      <th>0</th>\n",
       "      <td>1</td>\n",
       "      <td>Walmart</td>\n",
       "      <td>2300000</td>\n",
       "      <td>Retailing</td>\n",
       "      <td>485873</td>\n",
       "      <td>13643.0</td>\n",
       "    </tr>\n",
       "    <tr>\n",
       "      <th>1</th>\n",
       "      <td>2</td>\n",
       "      <td>Berkshire Hathaway</td>\n",
       "      <td>367700</td>\n",
       "      <td>Financials</td>\n",
       "      <td>223604</td>\n",
       "      <td>24074.0</td>\n",
       "    </tr>\n",
       "    <tr>\n",
       "      <th>2</th>\n",
       "      <td>3</td>\n",
       "      <td>Apple</td>\n",
       "      <td>116000</td>\n",
       "      <td>Technology</td>\n",
       "      <td>215639</td>\n",
       "      <td>45687.0</td>\n",
       "    </tr>\n",
       "    <tr>\n",
       "      <th>3</th>\n",
       "      <td>4</td>\n",
       "      <td>Exxon Mobil</td>\n",
       "      <td>72700</td>\n",
       "      <td>Energy</td>\n",
       "      <td>205004</td>\n",
       "      <td>7840.0</td>\n",
       "    </tr>\n",
       "    <tr>\n",
       "      <th>4</th>\n",
       "      <td>5</td>\n",
       "      <td>McKesson</td>\n",
       "      <td>68000</td>\n",
       "      <td>Wholesalers</td>\n",
       "      <td>192487</td>\n",
       "      <td>2258.0</td>\n",
       "    </tr>\n",
       "    <tr>\n",
       "      <th>...</th>\n",
       "      <td>...</td>\n",
       "      <td>...</td>\n",
       "      <td>...</td>\n",
       "      <td>...</td>\n",
       "      <td>...</td>\n",
       "      <td>...</td>\n",
       "    </tr>\n",
       "    <tr>\n",
       "      <th>57</th>\n",
       "      <td>58</td>\n",
       "      <td>FedEx</td>\n",
       "      <td>335767</td>\n",
       "      <td>Transportation</td>\n",
       "      <td>50365</td>\n",
       "      <td>1820.0</td>\n",
       "    </tr>\n",
       "    <tr>\n",
       "      <th>58</th>\n",
       "      <td>59</td>\n",
       "      <td>Hewlett Packard Enterprise</td>\n",
       "      <td>195000</td>\n",
       "      <td>Technology</td>\n",
       "      <td>50123</td>\n",
       "      <td>3161.0</td>\n",
       "    </tr>\n",
       "    <tr>\n",
       "      <th>59</th>\n",
       "      <td>60</td>\n",
       "      <td>Cisco Systems</td>\n",
       "      <td>73700</td>\n",
       "      <td>Technology</td>\n",
       "      <td>49247</td>\n",
       "      <td>10739.0</td>\n",
       "    </tr>\n",
       "    <tr>\n",
       "      <th>60</th>\n",
       "      <td>61</td>\n",
       "      <td>HP</td>\n",
       "      <td>49000</td>\n",
       "      <td>Technology</td>\n",
       "      <td>48238</td>\n",
       "      <td>2496.0</td>\n",
       "    </tr>\n",
       "    <tr>\n",
       "      <th>61</th>\n",
       "      <td>62</td>\n",
       "      <td>Dow Chemical</td>\n",
       "      <td>56000</td>\n",
       "      <td>Chemicals</td>\n",
       "      <td>48158</td>\n",
       "      <td>4318.0</td>\n",
       "    </tr>\n",
       "  </tbody>\n",
       "</table>\n",
       "<p>62 rows × 6 columns</p>\n",
       "</div>"
      ],
      "text/plain": [
       "    Rank                       Title  Employees          Sector  Revenues  \\\n",
       "0      1                     Walmart    2300000       Retailing    485873   \n",
       "1      2          Berkshire Hathaway     367700      Financials    223604   \n",
       "2      3                       Apple     116000      Technology    215639   \n",
       "3      4                 Exxon Mobil      72700          Energy    205004   \n",
       "4      5                    McKesson      68000     Wholesalers    192487   \n",
       "..   ...                         ...        ...             ...       ...   \n",
       "57    58                       FedEx     335767  Transportation     50365   \n",
       "58    59  Hewlett Packard Enterprise     195000      Technology     50123   \n",
       "59    60               Cisco Systems      73700      Technology     49247   \n",
       "60    61                          HP      49000      Technology     48238   \n",
       "61    62                Dow Chemical      56000       Chemicals     48158   \n",
       "\n",
       "    Profits  \n",
       "0   13643.0  \n",
       "1   24074.0  \n",
       "2   45687.0  \n",
       "3    7840.0  \n",
       "4    2258.0  \n",
       "..      ...  \n",
       "57   1820.0  \n",
       "58   3161.0  \n",
       "59  10739.0  \n",
       "60   2496.0  \n",
       "61   4318.0  \n",
       "\n",
       "[62 rows x 6 columns]"
      ]
     },
     "execution_count": 51,
     "metadata": {},
     "output_type": "execute_result"
    }
   ],
   "source": [
    "Quantile = sub_df[(sub_df['Revenues'] < lowert_limits) | (sub_df['Revenues'] > upper_limits)]\n",
    "\n",
    "Quantile"
   ]
  },
  {
   "cell_type": "code",
   "execution_count": null,
   "metadata": {},
   "outputs": [],
   "source": []
  },
  {
   "cell_type": "code",
   "execution_count": null,
   "metadata": {},
   "outputs": [],
   "source": []
  },
  {
   "cell_type": "code",
   "execution_count": null,
   "metadata": {},
   "outputs": [],
   "source": []
  },
  {
   "cell_type": "code",
   "execution_count": null,
   "metadata": {},
   "outputs": [],
   "source": []
  }
 ],
 "metadata": {
  "colab": {
   "authorship_tag": "ABX9TyODT4GS+i+1EMlACCRaFKuV",
   "provenance": []
  },
  "kernelspec": {
   "display_name": "base",
   "language": "python",
   "name": "python3"
  },
  "language_info": {
   "codemirror_mode": {
    "name": "ipython",
    "version": 3
   },
   "file_extension": ".py",
   "mimetype": "text/x-python",
   "name": "python",
   "nbconvert_exporter": "python",
   "pygments_lexer": "ipython3",
   "version": "3.12.4"
  }
 },
 "nbformat": 4,
 "nbformat_minor": 0
}
