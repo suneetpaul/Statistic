{
 "cells": [
  {
   "cell_type": "code",
   "execution_count": 1,
   "metadata": {},
   "outputs": [],
   "source": [
    "from scipy.stats import shapiro as sp"
   ]
  },
  {
   "cell_type": "code",
   "execution_count": 3,
   "metadata": {},
   "outputs": [
    {
     "name": "stdout",
     "output_type": "stream",
     "text": [
      "stats = 0.9780016294384769\n",
      "p-value = 0.9492885624975852\n",
      "The data is normally distributed\n"
     ]
    }
   ],
   "source": [
    "data =[20,10,30,40,50,60, 70, ]\n",
    "\n",
    "# perform the shapiro - wilk - test\n",
    "\n",
    "stats , p  = sp(data)  # sp(data) with use import shapiro as ' sp ' \n",
    "\n",
    "print('stats =' , stats)\n",
    "print('p-value =' , p)\n",
    "\n",
    "if p > 0.05 :\n",
    "    print(\"The data is normally distributed\")\n",
    "else:\n",
    "    print(\"The data is not normally distributed\")"
   ]
  },
  {
   "cell_type": "code",
   "execution_count": 8,
   "metadata": {},
   "outputs": [],
   "source": [
    "from scipy.stats import normaltest as nt\n",
    "import  numpy as np"
   ]
  },
  {
   "cell_type": "code",
   "execution_count": 5,
   "metadata": {},
   "outputs": [
    {
     "name": "stdout",
     "output_type": "stream",
     "text": [
      "stats = 1.7004056883060088\n",
      "p-value = 0.42732824212143383\n",
      "\n",
      " NormaltestResult(statistic=1.7004056883060088, pvalue=0.42732824212143383) \n",
      "\n",
      "The data is normally distributed\n"
     ]
    },
    {
     "name": "stderr",
     "output_type": "stream",
     "text": [
      "c:\\Users\\Tinku\\anaconda3\\Lib\\site-packages\\scipy\\stats\\_axis_nan_policy.py:531: UserWarning: kurtosistest only valid for n>=20 ... continuing anyway, n=8\n",
      "  res = hypotest_fun_out(*samples, **kwds)\n"
     ]
    }
   ],
   "source": [
    "from scipy.stats import normaltest \n",
    "import  numpy as np\n",
    "\n",
    "data = [10,20,30,40,50,60,70,80]\n",
    "\n",
    "# perform the d'agostino and pearson k^2  test\n",
    "\n",
    "stats , p  =  normaltest(data)\n",
    "\n",
    "print('stats =' , stats)\n",
    "print('p-value =' , p)\n",
    "\n",
    "# \n",
    "h =  normaltest(data)\n",
    "print('\\n',h , '\\n')\n",
    "\n",
    "\n",
    "if p > 0.05 :\n",
    "    print(\"The data is normally distributed\")\n",
    "\n",
    "else:\n",
    "    print(\"The data is not normally distributed\")\n",
    "\n"
   ]
  },
  {
   "cell_type": "code",
   "execution_count": 10,
   "metadata": {},
   "outputs": [
    {
     "name": "stderr",
     "output_type": "stream",
     "text": [
      "<>:4: SyntaxWarning: invalid escape sequence '\\p'\n",
      "<>:4: SyntaxWarning: invalid escape sequence '\\p'\n",
      "C:\\Users\\Tinku\\AppData\\Local\\Temp\\ipykernel_9508\\607518151.py:4: SyntaxWarning: invalid escape sequence '\\p'\n",
      "  data = pd.read_csv('E:\\paul\\AAFT\\stct\\Salary_Data.csv')\n"
     ]
    }
   ],
   "source": [
    "import pandas as pd\n",
    "import numpy as np\n",
    "\n",
    "data = pd.read_csv('E:\\paul\\AAFT\\stct\\Salary_Data.csv')\n"
   ]
  },
  {
   "cell_type": "code",
   "execution_count": 11,
   "metadata": {},
   "outputs": [
    {
     "data": {
      "text/html": [
       "<div>\n",
       "<style scoped>\n",
       "    .dataframe tbody tr th:only-of-type {\n",
       "        vertical-align: middle;\n",
       "    }\n",
       "\n",
       "    .dataframe tbody tr th {\n",
       "        vertical-align: top;\n",
       "    }\n",
       "\n",
       "    .dataframe thead th {\n",
       "        text-align: right;\n",
       "    }\n",
       "</style>\n",
       "<table border=\"1\" class=\"dataframe\">\n",
       "  <thead>\n",
       "    <tr style=\"text-align: right;\">\n",
       "      <th></th>\n",
       "      <th>YearsExperience</th>\n",
       "      <th>Salary</th>\n",
       "    </tr>\n",
       "  </thead>\n",
       "  <tbody>\n",
       "    <tr>\n",
       "      <th>0</th>\n",
       "      <td>1.1</td>\n",
       "      <td>39343.0</td>\n",
       "    </tr>\n",
       "    <tr>\n",
       "      <th>1</th>\n",
       "      <td>1.3</td>\n",
       "      <td>46205.0</td>\n",
       "    </tr>\n",
       "    <tr>\n",
       "      <th>2</th>\n",
       "      <td>1.5</td>\n",
       "      <td>37731.0</td>\n",
       "    </tr>\n",
       "    <tr>\n",
       "      <th>3</th>\n",
       "      <td>2.0</td>\n",
       "      <td>43525.0</td>\n",
       "    </tr>\n",
       "    <tr>\n",
       "      <th>4</th>\n",
       "      <td>2.2</td>\n",
       "      <td>39891.0</td>\n",
       "    </tr>\n",
       "  </tbody>\n",
       "</table>\n",
       "</div>"
      ],
      "text/plain": [
       "   YearsExperience   Salary\n",
       "0              1.1  39343.0\n",
       "1              1.3  46205.0\n",
       "2              1.5  37731.0\n",
       "3              2.0  43525.0\n",
       "4              2.2  39891.0"
      ]
     },
     "execution_count": 11,
     "metadata": {},
     "output_type": "execute_result"
    }
   ],
   "source": [
    "data.head()"
   ]
  },
  {
   "cell_type": "code",
   "execution_count": 13,
   "metadata": {},
   "outputs": [
    {
     "name": "stdout",
     "output_type": "stream",
     "text": [
      "corelation - r - 0.9782416184887599\n",
      "p value - 1.1430681092271567e-20\n",
      "The data is not normally distributed\n"
     ]
    }
   ],
   "source": [
    "import numpy as np \n",
    "from scipy.stats import pearsonr\n",
    "\n",
    "x  = [1,2,3,4,5, 6]\n",
    "y = [2,4,6,8,10,12]\n",
    "\n",
    "# pearson corelation \n",
    "r , p  = pearsonr(data['YearsExperience'] , data['Salary'])\n",
    "#r , p  = pearsonr(x, y)\n",
    "\n",
    "print('corelation - r -' , r )\n",
    "print('p value -' , p )\n",
    "\n",
    "\n",
    "if p > 0.05 :\n",
    "    print(\"The data is normally distributed\")\n",
    "\n",
    "else:\n",
    "    print(\"The data is not normally distributed\")\n"
   ]
  },
  {
   "cell_type": "code",
   "execution_count": 15,
   "metadata": {},
   "outputs": [
    {
     "name": "stdout",
     "output_type": "stream",
     "text": [
      "corelation - r - 0.9782416184887599\n",
      "p value - 1.466992893885873e-16\n",
      "The data is not normally distributed\n"
     ]
    }
   ],
   "source": [
    "import numpy as np \n",
    "from scipy.stats import spearmanr\n",
    "\n",
    "x  = [1,2,3,4,5,6 ,7]\n",
    "y = [2,4,6,8,10,12,14]\n",
    "\n",
    "# pearson corelation \n",
    "\n",
    "R , p  = spearmanr(data['YearsExperience'] , data['Salary'])\n",
    "\n",
    "print('corelation - r -' , r )\n",
    "print('p value -' , p )\n",
    "\n",
    "\n",
    "if p > 0.05 :\n",
    "    print(\"The data is normally distributed\")\n",
    "\n",
    "else:\n",
    "    print(\"The data is not normally distributed\")\n"
   ]
  },
  {
   "cell_type": "markdown",
   "metadata": {},
   "source": [
    "sp =  1 -   (6 sum(d^2)/ n^3 - n )"
   ]
  },
  {
   "cell_type": "markdown",
   "metadata": {},
   "source": [
    "kp =   sum xy \n",
    "*-------------------------\n",
    "root sum(x^2) *  sum (y^2)"
   ]
  },
  {
   "cell_type": "markdown",
   "metadata": {},
   "source": []
  },
  {
   "cell_type": "markdown",
   "metadata": {},
   "source": []
  },
  {
   "cell_type": "markdown",
   "metadata": {},
   "source": []
  },
  {
   "cell_type": "code",
   "execution_count": null,
   "metadata": {},
   "outputs": [],
   "source": []
  },
  {
   "cell_type": "code",
   "execution_count": null,
   "metadata": {},
   "outputs": [],
   "source": []
  },
  {
   "cell_type": "code",
   "execution_count": null,
   "metadata": {},
   "outputs": [],
   "source": []
  },
  {
   "cell_type": "code",
   "execution_count": null,
   "metadata": {},
   "outputs": [],
   "source": []
  },
  {
   "cell_type": "code",
   "execution_count": null,
   "metadata": {},
   "outputs": [],
   "source": []
  },
  {
   "cell_type": "code",
   "execution_count": null,
   "metadata": {},
   "outputs": [],
   "source": []
  },
  {
   "cell_type": "code",
   "execution_count": null,
   "metadata": {},
   "outputs": [],
   "source": []
  },
  {
   "cell_type": "code",
   "execution_count": null,
   "metadata": {},
   "outputs": [],
   "source": []
  },
  {
   "cell_type": "code",
   "execution_count": null,
   "metadata": {},
   "outputs": [],
   "source": []
  },
  {
   "cell_type": "code",
   "execution_count": null,
   "metadata": {},
   "outputs": [],
   "source": []
  },
  {
   "cell_type": "code",
   "execution_count": null,
   "metadata": {},
   "outputs": [],
   "source": []
  },
  {
   "cell_type": "code",
   "execution_count": null,
   "metadata": {},
   "outputs": [],
   "source": []
  },
  {
   "cell_type": "code",
   "execution_count": null,
   "metadata": {},
   "outputs": [],
   "source": []
  },
  {
   "cell_type": "code",
   "execution_count": null,
   "metadata": {},
   "outputs": [],
   "source": []
  },
  {
   "cell_type": "code",
   "execution_count": null,
   "metadata": {},
   "outputs": [],
   "source": []
  }
 ],
 "metadata": {
  "kernelspec": {
   "display_name": "Python 3",
   "language": "python",
   "name": "python3"
  },
  "language_info": {
   "codemirror_mode": {
    "name": "ipython",
    "version": 3
   },
   "file_extension": ".py",
   "mimetype": "text/x-python",
   "name": "python",
   "nbconvert_exporter": "python",
   "pygments_lexer": "ipython3",
   "version": "3.12.4"
  }
 },
 "nbformat": 4,
 "nbformat_minor": 2
}
